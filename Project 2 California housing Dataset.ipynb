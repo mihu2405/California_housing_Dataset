{
  "cells": [
    {
      "cell_type": "markdown",
      "metadata": {
        "id": "xOqObuz4i_cz"
      },
      "source": [
        "##Project : California housing price predictor (Regression)"
      ]
    },
    {
      "cell_type": "markdown",
      "metadata": {
        "id": "PSHTN6Q8eqoC"
      },
      "source": [
        "*The 8 input features are the following:*\n",
        "\n",
        "**MedInc:** median income in block group\n",
        "\n",
        "**HouseAge:** median house age in block group\n",
        "\n",
        "**AveRooms:** average number of rooms per household\n",
        "\n",
        "**AveBedrms:** average number of bedrooms per household\n",
        "\n",
        "**Population:** block group population\n",
        "\n",
        "**AveOccup:** average number of household members\n",
        "\n",
        "**Latitude:** block group latitude\n",
        "\n",
        "**Longitude:** block group longitude\n",
        "\n",
        "*The target variable is a scalar: the median house value for California districts, in dollars.*\n"
      ]
    },
    {
      "cell_type": "markdown",
      "metadata": {
        "id": "H-o690m7i_cz"
      },
      "source": [
        "Let's load, split and scale the California housing dataset:"
      ]
    },
    {
      "cell_type": "code",
      "execution_count": 32,
      "metadata": {
        "id": "pReVeHCndRAu"
      },
      "outputs": [],
      "source": [
        "import tensorflow as tf\n",
        "from tensorflow import keras\n",
        "import numpy as np\n",
        "import matplotlib.pyplot as plt\n",
        "import pandas as pd"
      ]
    },
    {
      "cell_type": "code",
      "execution_count": 46,
      "metadata": {
        "id": "73FCBO34i_cz"
      },
      "outputs": [],
      "source": [
        "from sklearn.datasets import fetch_california_housing\n",
        "from sklearn.model_selection import train_test_split\n",
        "from sklearn.preprocessing import StandardScaler\n",
        "\n",
        "housing = fetch_california_housing()\n",
        "\n",
        "X_train_full, X_test, y_train_full, y_test = train_test_split(housing.data, housing.target, random_state=42)\n",
        "X_train, X_valid, y_train, y_valid = train_test_split(X_train_full, y_train_full, random_state=42)"
      ]
    },
    {
      "cell_type": "code",
      "execution_count": 34,
      "metadata": {
        "colab": {
          "base_uri": "https://localhost:8080/"
        },
        "id": "mYz9FVSiceUK",
        "outputId": "a9b3c20a-3496-4ae2-8012-0eb596e31c8b"
      },
      "outputs": [
        {
          "data": {
            "text/plain": [
              "15480"
            ]
          },
          "execution_count": 34,
          "metadata": {},
          "output_type": "execute_result"
        }
      ],
      "source": [
        "len(X_train_full)"
      ]
    },
    {
      "cell_type": "code",
      "execution_count": 35,
      "metadata": {
        "colab": {
          "base_uri": "https://localhost:8080/"
        },
        "id": "oXfAqIgX5oBC",
        "outputId": "27df02b8-945e-4619-c373-56fb22e6339a"
      },
      "outputs": [
        {
          "data": {
            "text/plain": [
              "5160"
            ]
          },
          "execution_count": 35,
          "metadata": {},
          "output_type": "execute_result"
        }
      ],
      "source": [
        "len(X_test)"
      ]
    },
    {
      "cell_type": "code",
      "execution_count": 36,
      "metadata": {
        "colab": {
          "base_uri": "https://localhost:8080/"
        },
        "id": "MDj2w-bK5tme",
        "outputId": "1feccda3-5fe8-4042-bb54-59cfe74a946f"
      },
      "outputs": [
        {
          "data": {
            "text/plain": [
              "3870"
            ]
          },
          "execution_count": 36,
          "metadata": {},
          "output_type": "execute_result"
        }
      ],
      "source": [
        "len(X_valid)"
      ]
    },
    {
      "cell_type": "code",
      "execution_count": 37,
      "metadata": {
        "colab": {
          "base_uri": "https://localhost:8080/"
        },
        "id": "9JX160Bs5yI8",
        "outputId": "2ace916a-0f4f-462f-c8e2-1d353e0d8e95"
      },
      "outputs": [
        {
          "data": {
            "text/plain": [
              "11610"
            ]
          },
          "execution_count": 37,
          "metadata": {},
          "output_type": "execute_result"
        }
      ],
      "source": [
        "len(X_train)"
      ]
    },
    {
      "cell_type": "code",
      "execution_count": 40,
      "metadata": {
        "colab": {
          "base_uri": "https://localhost:8080/"
        },
        "id": "YCWa8jPxfEbP",
        "outputId": "ad48b0c3-d1c6-472e-f151-418f31c77530"
      },
      "outputs": [
        {
          "name": "stdout",
          "output_type": "stream",
          "text": [
            "   MedInc  HouseAge  AveRooms  AveBedrms  Population  AveOccup  Latitude  \\\n",
            "0  3.5214      15.0  3.049945   1.106548      1447.0  1.605993     37.63   \n",
            "1  5.3275       5.0  6.490060   0.991054      3464.0  3.443340     33.69   \n",
            "2  3.1000      29.0  7.542373   1.591525      1328.0  2.250847     38.44   \n",
            "3  7.1736      12.0  6.289003   0.997442      1054.0  2.695652     33.55   \n",
            "4  2.0549      13.0  5.312457   1.085092      3297.0  2.244384     33.93   \n",
            "\n",
            "   Longitude  \n",
            "0    -122.43  \n",
            "1    -117.39  \n",
            "2    -122.98  \n",
            "3    -117.70  \n",
            "4    -116.93  \n"
          ]
        }
      ],
      "source": [
        "# Convert X_train into a DataFrame with attribute names\n",
        "df_train = pd.DataFrame(X_train, columns=housing.feature_names)\n",
        "\n",
        "# Print the DataFrame\n",
        "print(df_train.head())  # Print the first few rows of the DataFrame\n"
      ]
    },
    {
      "cell_type": "markdown",
      "metadata": {
        "id": "5MezZ9hEhgRw"
      },
      "source": [
        "Let us standardize the data"
      ]
    },
    {
      "cell_type": "code",
      "execution_count": 47,
      "metadata": {
        "id": "CKri5ezPgraO"
      },
      "outputs": [],
      "source": [
        "scaler = StandardScaler()\n",
        "X_train = scaler.fit_transform(X_train)\n",
        "X_valid = scaler.transform(X_valid)\n",
        "X_test = scaler.transform(X_test)"
      ]
    },
    {
      "cell_type": "code",
      "execution_count": 26,
      "metadata": {
        "colab": {
          "base_uri": "https://localhost:8080/"
        },
        "id": "F_YsjUFGc0No",
        "outputId": "e63d5f1c-4cdf-48b8-e068-c59b6906ac72"
      },
      "outputs": [
        {
          "data": {
            "text/plain": [
              "11610"
            ]
          },
          "execution_count": 26,
          "metadata": {},
          "output_type": "execute_result"
        }
      ],
      "source": [
        "len(X_train)"
      ]
    },
    {
      "cell_type": "code",
      "execution_count": 27,
      "metadata": {
        "colab": {
          "base_uri": "https://localhost:8080/"
        },
        "id": "JJRzc8Wbc3F5",
        "outputId": "4551eb96-7d0e-4be7-8b8f-1e0ec49d0738"
      },
      "outputs": [
        {
          "data": {
            "text/plain": [
              "3870"
            ]
          },
          "execution_count": 27,
          "metadata": {},
          "output_type": "execute_result"
        }
      ],
      "source": [
        "len(X_valid)"
      ]
    },
    {
      "cell_type": "code",
      "execution_count": 48,
      "metadata": {
        "id": "bUtB0N33i_c0"
      },
      "outputs": [],
      "source": [
        "np.random.seed(42)\n",
        "tf.random.set_seed(42)"
      ]
    },
    {
      "cell_type": "markdown",
      "metadata": {
        "id": "t5bpT4SuhmyD"
      },
      "source": [
        "Let us now define the model architecture"
      ]
    },
    {
      "cell_type": "code",
      "execution_count": 49,
      "metadata": {
        "colab": {
          "base_uri": "https://localhost:8080/"
        },
        "id": "4_3_d2hqi_c0",
        "outputId": "1c3898ee-4e61-489a-a574-b067a3d86ca1"
      },
      "outputs": [
        {
          "name": "stdout",
          "output_type": "stream",
          "text": [
            "Epoch 1/20\n",
            "363/363 [==============================] - 1s 2ms/step - loss: 2.3995 - val_loss: 1.9867\n",
            "Epoch 2/20\n",
            "363/363 [==============================] - 1s 2ms/step - loss: 0.6861 - val_loss: 0.6335\n",
            "Epoch 3/20\n",
            "363/363 [==============================] - 1s 2ms/step - loss: 0.6031 - val_loss: 0.5723\n",
            "Epoch 4/20\n",
            "363/363 [==============================] - 1s 2ms/step - loss: 0.5756 - val_loss: 0.5269\n",
            "Epoch 5/20\n",
            "363/363 [==============================] - 1s 2ms/step - loss: 0.5526 - val_loss: 0.5069\n",
            "Epoch 6/20\n",
            "363/363 [==============================] - 1s 2ms/step - loss: 0.5315 - val_loss: 0.4916\n",
            "Epoch 7/20\n",
            "363/363 [==============================] - 1s 2ms/step - loss: 0.5138 - val_loss: 0.4820\n",
            "Epoch 8/20\n",
            "363/363 [==============================] - 1s 2ms/step - loss: 0.4988 - val_loss: 0.4607\n",
            "Epoch 9/20\n",
            "363/363 [==============================] - 1s 3ms/step - loss: 0.4851 - val_loss: 0.4473\n",
            "Epoch 10/20\n",
            "363/363 [==============================] - 1s 3ms/step - loss: 0.4741 - val_loss: 0.4447\n",
            "Epoch 11/20\n",
            "363/363 [==============================] - 1s 3ms/step - loss: 0.4655 - val_loss: 0.4447\n",
            "Epoch 12/20\n",
            "363/363 [==============================] - 1s 3ms/step - loss: 0.4574 - val_loss: 0.4250\n",
            "Epoch 13/20\n",
            "363/363 [==============================] - 1s 2ms/step - loss: 0.4512 - val_loss: 0.4158\n",
            "Epoch 14/20\n",
            "363/363 [==============================] - 1s 2ms/step - loss: 0.4454 - val_loss: 0.4117\n",
            "Epoch 15/20\n",
            "363/363 [==============================] - 1s 2ms/step - loss: 0.4402 - val_loss: 0.4104\n",
            "Epoch 16/20\n",
            "363/363 [==============================] - 1s 2ms/step - loss: 0.4358 - val_loss: 0.4024\n",
            "Epoch 17/20\n",
            "363/363 [==============================] - 1s 2ms/step - loss: 0.4321 - val_loss: 0.4019\n",
            "Epoch 18/20\n",
            "363/363 [==============================] - 1s 2ms/step - loss: 0.4285 - val_loss: 0.4081\n",
            "Epoch 19/20\n",
            "363/363 [==============================] - 1s 2ms/step - loss: 0.4251 - val_loss: 0.3985\n",
            "Epoch 20/20\n",
            "363/363 [==============================] - 1s 2ms/step - loss: 0.4225 - val_loss: 0.4056\n"
          ]
        }
      ],
      "source": [
        "model = keras.models.Sequential([\n",
        "    keras.layers.Dense(30, activation=\"relu\", input_shape=X_train.shape[1:]),\n",
        "    keras.layers.Dense(1)\n",
        "])\n",
        "model.compile(loss=\"mean_squared_error\", optimizer=keras.optimizers.SGD(learning_rate=1e-3))\n",
        "history = model.fit(X_train, y_train, epochs=20, validation_data=(X_valid, y_valid))"
      ]
    },
    {
      "cell_type": "code",
      "execution_count": 50,
      "metadata": {
        "colab": {
          "base_uri": "https://localhost:8080/",
          "height": 472
        },
        "id": "405uxpNUmRy2",
        "outputId": "7afbb1d5-8321-4000-a109-163811a2dd80"
      },
      "outputs": [
        {
          "data": {
            "image/png": "[encoded data removed]",
            "text/plain": [
              "<Figure size 640x480 with 1 Axes>"
            ]
          },
          "metadata": {},
          "output_type": "display_data"
        }
      ],
      "source": [
        "# Plot the loss\n",
        "plt.plot(history.history['loss'], label='Training loss')\n",
        "plt.plot(history.history['val_loss'], label='Validation loss')\n",
        "plt.legend()\n",
        "plt.xlabel('Epochs')\n",
        "plt.ylabel('Loss')\n",
        "plt.title('Training and Validation Loss')\n",
        "plt.show()"
      ]
    },
    {
      "cell_type": "markdown",
      "metadata": {
        "id": "963l10oShryj"
      },
      "source": [
        "Let us evaluate the model testing performance"
      ]
    },
    {
      "cell_type": "code",
      "execution_count": 51,
      "metadata": {
        "colab": {
          "base_uri": "https://localhost:8080/"
        },
        "id": "tQcRFozmmSCQ",
        "outputId": "7cb41310-06bf-4da4-8480-d7bf80d61fa3"
      },
      "outputs": [
        {
          "name": "stdout",
          "output_type": "stream",
          "text": [
            "162/162 [==============================] - 0s 2ms/step - loss: 0.4192\n"
          ]
        }
      ],
      "source": [
        "# Evaluate the model on the test set\n",
        "mse_test = model.evaluate(X_test, y_test)"
      ]
    },
    {
      "cell_type": "code",
      "execution_count": 31,
      "metadata": {
        "colab": {
          "base_uri": "https://localhost:8080/"
        },
        "id": "uAFis-W8dJRP",
        "outputId": "66879e94-3023-4e21-8acd-ada4e84982fb"
      },
      "outputs": [
        {
          "name": "stdout",
          "output_type": "stream",
          "text": [
            "1/1 [==============================] - 0s 61ms/step\n",
            "Sample 1:\n",
            "Predicted: 0.7479265332221985\n",
            "Actual: 0.477\n",
            "Sample 2:\n",
            "Predicted: 1.6871938705444336\n",
            "Actual: 0.458\n",
            "Sample 3:\n",
            "Predicted: 3.6486470699310303\n",
            "Actual: 5.00001\n"
          ]
        }
      ],
      "source": [
        "\n",
        "# Make predictions on new data\n",
        "X_new = X_test[:3]\n",
        "y_pred = model.predict(X_new)\n",
        "\n",
        "# Compare predictions with actual values\n",
        "for i in range(len(X_new)):\n",
        "    print(f\"Sample {i+1}:\")\n",
        "    print(f\"Predicted: {y_pred[i][0]}\")\n",
        "    print(f\"Actual: {y_test[i]}\")"
      ]
    }
  ],
  "metadata": {
    "colab": {
      "provenance": []
    },
    "kernelspec": {
      "display_name": "Python 3",
      "language": "python",
      "name": "python3"
    },
    "language_info": {
      "codemirror_mode": {
        "name": "ipython",
        "version": 3
      },
      "file_extension": ".py",
      "mimetype": "text/x-python",
      "name": "python",
      "nbconvert_exporter": "python",
      "pygments_lexer": "ipython3",
      "version": "3.7.10"
    },
    "nav_menu": {
      "height": "264px",
      "width": "369px"
    },
    "toc": {
      "navigate_menu": true,
      "number_sections": true,
      "sideBar": true,
      "threshold": 6,
      "toc_cell": false,
      "toc_section_display": "block",
      "toc_window_display": false
    }
  },
  "nbformat": 4,
  "nbformat_minor": 0
}
